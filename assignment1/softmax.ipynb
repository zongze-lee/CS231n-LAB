{
 "cells": [
  {
   "cell_type": "code",
   "execution_count": 1,
   "id": "149d5b7e",
   "metadata": {},
   "outputs": [
    {
     "data": {
      "text/plain": [
       "'\\n# This mounts your Google Drive to the Colab VM.\\nfrom google.colab import drive\\ndrive.mount(\\'/content/drive\\')\\n\\n# TODO: Enter the foldername in your Drive where you have saved the unzipped\\n# assignment folder, e.g. \\'cs231n/assignments/assignment1/\\'\\nFOLDERNAME = None\\nassert FOLDERNAME is not None, \"[!] Enter the foldername.\"\\n\\n# Now that we\\'ve mounted your Drive, this ensures that\\n# the Python interpreter of the Colab VM can load\\n# python files from within it.\\nimport sys\\nsys.path.append(\\'/content/drive/My Drive/{}\\'.format(FOLDERNAME))\\n\\n# This downloads the CIFAR-10 dataset to your Drive\\n# if it doesn\\'t already exist.\\n%cd /content/drive/My\\\\ Drive/$FOLDERNAME/cs231n/datasets/\\n!bash get_datasets.sh\\n%cd /content/drive/My\\\\ Drive/$FOLDERNAME\\n'"
      ]
     },
     "execution_count": 1,
     "metadata": {},
     "output_type": "execute_result"
    }
   ],
   "source": [
    "'''\n",
    "# This mounts your Google Drive to the Colab VM.\n",
    "from google.colab import drive\n",
    "drive.mount('/content/drive')\n",
    "\n",
    "# TODO: Enter the foldername in your Drive where you have saved the unzipped\n",
    "# assignment folder, e.g. 'cs231n/assignments/assignment1/'\n",
    "FOLDERNAME = None\n",
    "assert FOLDERNAME is not None, \"[!] Enter the foldername.\"\n",
    "\n",
    "# Now that we've mounted your Drive, this ensures that\n",
    "# the Python interpreter of the Colab VM can load\n",
    "# python files from within it.\n",
    "import sys\n",
    "sys.path.append('/content/drive/My Drive/{}'.format(FOLDERNAME))\n",
    "\n",
    "# This downloads the CIFAR-10 dataset to your Drive\n",
    "# if it doesn't already exist.\n",
    "%cd /content/drive/My\\ Drive/$FOLDERNAME/cs231n/datasets/\n",
    "!bash get_datasets.sh\n",
    "%cd /content/drive/My\\ Drive/$FOLDERNAME\n",
    "'''"
   ]
  },
  {
   "cell_type": "markdown",
   "id": "5fdfc27e",
   "metadata": {
    "tags": [
     "pdf-title"
    ]
   },
   "source": [
    "# Softmax exercise\n",
    "\n",
    "*Complete and hand in this completed worksheet (including its outputs and any supporting code outside of the worksheet) with your assignment submission. For more details see the [assignments page](http://vision.stanford.edu/teaching/cs231n/assignments.html) on the course website.*\n",
    "\n",
    "This exercise is analogous to the SVM exercise. You will:\n",
    "\n",
    "- implement a fully-vectorized **loss function** for the Softmax classifier\n",
    "- implement the fully-vectorized expression for its **analytic gradient**\n",
    "- **check your implementation** with numerical gradient\n",
    "- use a validation set to **tune the learning rate and regularization** strength\n",
    "- **optimize** the loss function with **SGD**\n",
    "- **visualize** the final learned weights\n"
   ]
  },
  {
   "cell_type": "code",
   "execution_count": 2,
   "id": "ca6cf2d4",
   "metadata": {
    "tags": [
     "pdf-ignore"
    ]
   },
   "outputs": [],
   "source": [
    "import random\n",
    "import numpy as np\n",
    "from cs231n.data_utils import load_CIFAR10\n",
    "import matplotlib.pyplot as plt\n",
    "\n",
    "%matplotlib inline\n",
    "plt.rcParams['figure.figsize'] = (10.0, 8.0) # set default size of plots\n",
    "plt.rcParams['image.interpolation'] = 'nearest'\n",
    "plt.rcParams['image.cmap'] = 'gray'\n",
    "\n",
    "# for auto-reloading extenrnal modules\n",
    "# see http://stackoverflow.com/questions/1907993/autoreload-of-modules-in-ipython\n",
    "%load_ext autoreload\n",
    "%autoreload 2"
   ]
  },
  {
   "cell_type": "code",
   "execution_count": 3,
   "id": "9e9bbbbe",
   "metadata": {
    "tags": [
     "pdf-ignore"
    ]
   },
   "outputs": [
    {
     "name": "stdout",
     "output_type": "stream",
     "text": [
      "Train data shape:  (49000, 3073)\n",
      "Train labels shape:  (49000,)\n",
      "Validation data shape:  (1000, 3073)\n",
      "Validation labels shape:  (1000,)\n",
      "Test data shape:  (1000, 3073)\n",
      "Test labels shape:  (1000,)\n",
      "dev data shape:  (500, 3073)\n",
      "dev labels shape:  (500,)\n"
     ]
    }
   ],
   "source": [
    "def get_CIFAR10_data(num_training=49000, num_validation=1000, num_test=1000, num_dev=500):\n",
    "    \"\"\"\n",
    "    Load the CIFAR-10 dataset from disk and perform preprocessing to prepare\n",
    "    it for the linear classifier. These are the same steps as we used for the\n",
    "    SVM, but condensed to a single function.  \n",
    "    \"\"\"\n",
    "    # Load the raw CIFAR-10 data\n",
    "    cifar10_dir = 'cs231n/datasets/cifar-10-python/cifar-10-batches-py'\n",
    "    \n",
    "    # Cleaning up variables to prevent loading data multiple times (which may cause memory issue)\n",
    "    try:\n",
    "       del X_train, y_train\n",
    "       del X_test, y_test\n",
    "       print('Clear previously loaded data.')\n",
    "    except:\n",
    "       pass\n",
    "\n",
    "    X_train, y_train, X_test, y_test = load_CIFAR10(cifar10_dir)\n",
    "    \n",
    "    # subsample the data\n",
    "    mask = list(range(num_training, num_training + num_validation))\n",
    "    X_val = X_train[mask]\n",
    "    y_val = y_train[mask]\n",
    "    mask = list(range(num_training))\n",
    "    X_train = X_train[mask]\n",
    "    y_train = y_train[mask]\n",
    "    mask = list(range(num_test))\n",
    "    X_test = X_test[mask]\n",
    "    y_test = y_test[mask]\n",
    "    mask = np.random.choice(num_training, num_dev, replace=False)\n",
    "    X_dev = X_train[mask]\n",
    "    y_dev = y_train[mask]\n",
    "    \n",
    "    # Preprocessing: reshape the image data into rows\n",
    "    X_train = np.reshape(X_train, (X_train.shape[0], -1))\n",
    "    X_val = np.reshape(X_val, (X_val.shape[0], -1))\n",
    "    X_test = np.reshape(X_test, (X_test.shape[0], -1))\n",
    "    X_dev = np.reshape(X_dev, (X_dev.shape[0], -1))\n",
    "    \n",
    "    # Normalize the data: subtract the mean image\n",
    "    mean_image = np.mean(X_train, axis = 0)\n",
    "    X_train -= mean_image\n",
    "    X_val -= mean_image\n",
    "    X_test -= mean_image\n",
    "    X_dev -= mean_image\n",
    "    \n",
    "    # add bias dimension and transform into columns\n",
    "    X_train = np.hstack([X_train, np.ones((X_train.shape[0], 1))])\n",
    "    X_val = np.hstack([X_val, np.ones((X_val.shape[0], 1))])\n",
    "    X_test = np.hstack([X_test, np.ones((X_test.shape[0], 1))])\n",
    "    X_dev = np.hstack([X_dev, np.ones((X_dev.shape[0], 1))])\n",
    "    \n",
    "    return X_train, y_train, X_val, y_val, X_test, y_test, X_dev, y_dev\n",
    "\n",
    "\n",
    "# Invoke the above function to get our data.\n",
    "X_train, y_train, X_val, y_val, X_test, y_test, X_dev, y_dev = get_CIFAR10_data()\n",
    "print('Train data shape: ', X_train.shape)\n",
    "print('Train labels shape: ', y_train.shape)\n",
    "print('Validation data shape: ', X_val.shape)\n",
    "print('Validation labels shape: ', y_val.shape)\n",
    "print('Test data shape: ', X_test.shape)\n",
    "print('Test labels shape: ', y_test.shape)\n",
    "print('dev data shape: ', X_dev.shape)\n",
    "print('dev labels shape: ', y_dev.shape)"
   ]
  },
  {
   "cell_type": "markdown",
   "id": "d4c3fb04",
   "metadata": {},
   "source": [
    "## Softmax Classifier\n",
    "\n",
    "Your code for this section will all be written inside `cs231n/classifiers/softmax.py`.\n"
   ]
  },
  {
   "cell_type": "code",
   "execution_count": 4,
   "id": "25f2e5e1",
   "metadata": {},
   "outputs": [
    {
     "name": "stdout",
     "output_type": "stream",
     "text": [
      "loss: 2.355885\n",
      "sanity check: 2.302585\n"
     ]
    }
   ],
   "source": [
    "# First implement the naive softmax loss function with nested loops.\n",
    "# Open the file cs231n/classifiers/softmax.py and implement the\n",
    "# softmax_loss_naive function.\n",
    "\n",
    "from cs231n.classifiers.softmax import softmax_loss_naive\n",
    "import time\n",
    "\n",
    "# Generate a random softmax weight matrix and use it to compute the loss.\n",
    "W = np.random.randn(3073, 10) * 0.0001\n",
    "loss, grad = softmax_loss_naive(W, X_dev, y_dev, 0.0)\n",
    "\n",
    "# As a rough sanity check, our loss should be something close to -log(0.1).\n",
    "print('loss: %f' % loss)\n",
    "print('sanity check: %f' % (-np.log(0.1)))"
   ]
  },
  {
   "cell_type": "markdown",
   "id": "15ebc638",
   "metadata": {
    "tags": [
     "pdf-inline"
    ]
   },
   "source": [
    "**Inline Question 1**\n",
    "\n",
    "Why do we expect our loss to be close to -log(0.1)? Explain briefly.**\n",
    "\n",
    "$\\color{blue}{\\textit Your Answer:}$\n",
    "- *Since we have 10 classes, and the probability to choose the right one is nearly 0.1.* "
   ]
  },
  {
   "cell_type": "code",
   "execution_count": 5,
   "id": "a8cb3eb1",
   "metadata": {},
   "outputs": [
    {
     "name": "stdout",
     "output_type": "stream",
     "text": [
      "numerical: 0.464922 analytic: 0.464922, relative error: 1.941612e-07\n",
      "numerical: -0.800542 analytic: -0.800542, relative error: 1.145561e-07\n",
      "numerical: 2.090521 analytic: 2.090521, relative error: 4.943692e-08\n",
      "numerical: -0.731060 analytic: -0.731060, relative error: 6.107197e-08\n",
      "numerical: 4.835725 analytic: 4.835725, relative error: 1.472043e-08\n",
      "numerical: 0.671982 analytic: 0.671982, relative error: 1.595324e-07\n",
      "numerical: 4.343342 analytic: 4.343342, relative error: 1.233043e-08\n",
      "numerical: -0.101827 analytic: -0.101827, relative error: 6.626402e-07\n",
      "numerical: -2.124126 analytic: -2.124126, relative error: 7.276821e-09\n",
      "numerical: 0.112601 analytic: 0.112601, relative error: 1.288255e-08\n",
      "numerical: 2.134004 analytic: 2.134004, relative error: 3.735720e-08\n",
      "numerical: -1.191238 analytic: -1.191238, relative error: 1.803132e-08\n",
      "numerical: -0.189376 analytic: -0.189376, relative error: 4.105926e-07\n",
      "numerical: 1.649120 analytic: 1.649120, relative error: 3.222374e-08\n",
      "numerical: -1.683523 analytic: -1.683524, relative error: 3.754838e-08\n",
      "numerical: 0.016292 analytic: 0.016292, relative error: 1.094592e-07\n",
      "numerical: -2.312270 analytic: -2.312270, relative error: 2.366046e-08\n",
      "numerical: -0.002682 analytic: -0.002683, relative error: 2.310745e-05\n",
      "numerical: 0.870450 analytic: 0.870450, relative error: 6.869559e-08\n",
      "numerical: 0.622065 analytic: 0.622065, relative error: 6.773310e-08\n"
     ]
    }
   ],
   "source": [
    "# Complete the implementation of softmax_loss_naive and implement a (naive)\n",
    "# version of the gradient that uses nested loops.\n",
    "loss, grad = softmax_loss_naive(W, X_dev, y_dev, 0.0)\n",
    "\n",
    "# As we did for the SVM, use numeric gradient checking as a debugging tool.\n",
    "# The numeric gradient should be close to the analytic gradient.\n",
    "from cs231n.gradient_check import grad_check_sparse\n",
    "f = lambda w: softmax_loss_naive(w, X_dev, y_dev, 0.0)[0]\n",
    "grad_numerical = grad_check_sparse(f, W, grad, 10)\n",
    "\n",
    "# similar to SVM case, do another gradient check with regularization\n",
    "loss, grad = softmax_loss_naive(W, X_dev, y_dev, 5e1)\n",
    "f = lambda w: softmax_loss_naive(w, X_dev, y_dev, 5e1)[0]\n",
    "grad_numerical = grad_check_sparse(f, W, grad, 10)"
   ]
  },
  {
   "cell_type": "code",
   "execution_count": 6,
   "id": "4a4a81d4",
   "metadata": {},
   "outputs": [
    {
     "name": "stdout",
     "output_type": "stream",
     "text": [
      "naive loss: 2.355885e+00 computed in 0.094184s\n",
      "vectorized loss: 2.355885e+00 computed in 0.000000s\n",
      "Loss difference: 0.000000\n",
      "Gradient difference: 0.000000\n"
     ]
    }
   ],
   "source": [
    "# Now that we have a naive implementation of the softmax loss function and its gradient,\n",
    "# implement a vectorized version in softmax_loss_vectorized.\n",
    "# The two versions should compute the same results, but the vectorized version should be\n",
    "# much faster.\n",
    "tic = time.time()\n",
    "loss_naive, grad_naive = softmax_loss_naive(W, X_dev, y_dev, 0.000005)\n",
    "toc = time.time()\n",
    "print('naive loss: %e computed in %fs' % (loss_naive, toc - tic))\n",
    "\n",
    "from cs231n.classifiers.softmax import softmax_loss_vectorized\n",
    "tic = time.time()\n",
    "loss_vectorized, grad_vectorized = softmax_loss_vectorized(W, X_dev, y_dev, 0.000005)\n",
    "toc = time.time()\n",
    "print('vectorized loss: %e computed in %fs' % (loss_vectorized, toc - tic))\n",
    "\n",
    "# As we did for the SVM, we use the Frobenius norm to compare the two versions\n",
    "# of the gradient.\n",
    "grad_difference = np.linalg.norm(grad_naive - grad_vectorized, ord='fro')\n",
    "print('Loss difference: %f' % np.abs(loss_naive - loss_vectorized))\n",
    "print('Gradient difference: %f' % grad_difference)"
   ]
  },
  {
   "cell_type": "code",
   "execution_count": 7,
   "id": "a3453536",
   "metadata": {
    "tags": [
     "code"
    ],
    "test": "tuning"
   },
   "outputs": [
    {
     "name": "stdout",
     "output_type": "stream",
     "text": [
      "iteration 0 / 1500: loss 308.979372\n",
      "iteration 100 / 1500: loss 92.922688\n",
      "iteration 200 / 1500: loss 29.146804\n",
      "iteration 300 / 1500: loss 10.140099\n",
      "iteration 400 / 1500: loss 4.438376\n",
      "iteration 500 / 1500: loss 2.677995\n",
      "iteration 600 / 1500: loss 2.169201\n",
      "iteration 700 / 1500: loss 2.122712\n",
      "iteration 800 / 1500: loss 2.042073\n",
      "iteration 900 / 1500: loss 1.914321\n",
      "iteration 1000 / 1500: loss 2.034427\n",
      "iteration 1100 / 1500: loss 1.968389\n",
      "iteration 1200 / 1500: loss 1.986152\n",
      "iteration 1300 / 1500: loss 2.006084\n",
      "iteration 1400 / 1500: loss 2.005382\n",
      "iteration 0 / 1500: loss 620.510658\n",
      "iteration 100 / 1500: loss 56.908738\n",
      "iteration 200 / 1500: loss 6.957276\n",
      "iteration 300 / 1500: loss 2.454215\n",
      "iteration 400 / 1500: loss 2.112454\n",
      "iteration 500 / 1500: loss 1.986167\n",
      "iteration 600 / 1500: loss 2.075710\n",
      "iteration 700 / 1500: loss 2.071678\n",
      "iteration 800 / 1500: loss 2.093278\n",
      "iteration 900 / 1500: loss 2.098059\n",
      "iteration 1000 / 1500: loss 2.040103\n",
      "iteration 1100 / 1500: loss 2.117322\n",
      "iteration 1200 / 1500: loss 2.032164\n",
      "iteration 1300 / 1500: loss 2.088567\n",
      "iteration 1400 / 1500: loss 2.036884\n",
      "iteration 0 / 1500: loss 935.452347\n",
      "iteration 100 / 1500: loss 26.580502\n",
      "iteration 200 / 1500: loss 2.770933\n",
      "iteration 300 / 1500: loss 2.184279\n",
      "iteration 400 / 1500: loss 2.097173\n",
      "iteration 500 / 1500: loss 2.214085\n",
      "iteration 600 / 1500: loss 2.042557\n",
      "iteration 700 / 1500: loss 2.119337\n",
      "iteration 800 / 1500: loss 2.135791\n",
      "iteration 900 / 1500: loss 2.102178\n",
      "iteration 1000 / 1500: loss 2.083915\n",
      "iteration 1100 / 1500: loss 2.104497\n",
      "iteration 1200 / 1500: loss 2.071288\n",
      "iteration 1300 / 1500: loss 2.107019\n",
      "iteration 1400 / 1500: loss 2.069038\n",
      "iteration 0 / 1500: loss 311.804536\n",
      "iteration 100 / 1500: loss 43.006740\n",
      "iteration 200 / 1500: loss 7.362145\n",
      "iteration 300 / 1500: loss 2.722539\n",
      "iteration 400 / 1500: loss 2.121537\n",
      "iteration 500 / 1500: loss 2.063403\n",
      "iteration 600 / 1500: loss 2.063043\n",
      "iteration 700 / 1500: loss 2.001571\n",
      "iteration 800 / 1500: loss 2.065712\n",
      "iteration 900 / 1500: loss 2.014881\n",
      "iteration 1000 / 1500: loss 2.030892\n",
      "iteration 1100 / 1500: loss 1.961385\n",
      "iteration 1200 / 1500: loss 2.037811\n",
      "iteration 1300 / 1500: loss 2.003040\n",
      "iteration 1400 / 1500: loss 1.972939\n",
      "iteration 0 / 1500: loss 628.657169\n",
      "iteration 100 / 1500: loss 12.977978\n",
      "iteration 200 / 1500: loss 2.297010\n",
      "iteration 300 / 1500: loss 2.093062\n",
      "iteration 400 / 1500: loss 2.045282\n",
      "iteration 500 / 1500: loss 2.011277\n",
      "iteration 600 / 1500: loss 2.057141\n",
      "iteration 700 / 1500: loss 2.072872\n",
      "iteration 800 / 1500: loss 2.111893\n",
      "iteration 900 / 1500: loss 2.087848\n",
      "iteration 1000 / 1500: loss 2.060190\n",
      "iteration 1100 / 1500: loss 2.120692\n",
      "iteration 1200 / 1500: loss 2.024819\n",
      "iteration 1300 / 1500: loss 2.096007\n",
      "iteration 1400 / 1500: loss 2.034388\n",
      "iteration 0 / 1500: loss 921.606839\n",
      "iteration 100 / 1500: loss 4.146215\n",
      "iteration 200 / 1500: loss 2.071478\n",
      "iteration 300 / 1500: loss 2.123879\n",
      "iteration 400 / 1500: loss 2.166266\n",
      "iteration 500 / 1500: loss 2.102063\n",
      "iteration 600 / 1500: loss 2.088664\n",
      "iteration 700 / 1500: loss 2.060891\n",
      "iteration 800 / 1500: loss 2.107126\n",
      "iteration 900 / 1500: loss 2.098175\n",
      "iteration 1000 / 1500: loss 2.080770\n",
      "iteration 1100 / 1500: loss 2.110690\n",
      "iteration 1200 / 1500: loss 2.111330\n",
      "iteration 1300 / 1500: loss 2.156333\n",
      "iteration 1400 / 1500: loss 2.057546\n",
      "iteration 0 / 1500: loss 313.952453\n",
      "iteration 100 / 1500: loss 20.313259\n",
      "iteration 200 / 1500: loss 3.060122\n",
      "iteration 300 / 1500: loss 2.041362\n",
      "iteration 400 / 1500: loss 2.026668\n",
      "iteration 500 / 1500: loss 2.031630\n",
      "iteration 600 / 1500: loss 1.950036\n",
      "iteration 700 / 1500: loss 1.998639\n",
      "iteration 800 / 1500: loss 2.034833\n",
      "iteration 900 / 1500: loss 2.057923\n",
      "iteration 1000 / 1500: loss 1.965127\n",
      "iteration 1100 / 1500: loss 2.033297\n",
      "iteration 1200 / 1500: loss 2.001514\n",
      "iteration 1300 / 1500: loss 2.083952\n",
      "iteration 1400 / 1500: loss 2.020784\n",
      "iteration 0 / 1500: loss 617.789687\n",
      "iteration 100 / 1500: loss 4.048241\n",
      "iteration 200 / 1500: loss 2.137786\n",
      "iteration 300 / 1500: loss 2.065274\n",
      "iteration 400 / 1500: loss 2.119890\n",
      "iteration 500 / 1500: loss 2.043989\n",
      "iteration 600 / 1500: loss 2.118593\n",
      "iteration 700 / 1500: loss 2.052265\n",
      "iteration 800 / 1500: loss 2.092099\n",
      "iteration 900 / 1500: loss 2.091715\n",
      "iteration 1000 / 1500: loss 2.068279\n",
      "iteration 1100 / 1500: loss 2.058977\n",
      "iteration 1200 / 1500: loss 2.089573\n",
      "iteration 1300 / 1500: loss 2.104778\n",
      "iteration 1400 / 1500: loss 2.068126\n",
      "iteration 0 / 1500: loss 929.622838\n",
      "iteration 100 / 1500: loss 2.298270\n",
      "iteration 200 / 1500: loss 2.102849\n",
      "iteration 300 / 1500: loss 2.132848\n",
      "iteration 400 / 1500: loss 2.092934\n",
      "iteration 500 / 1500: loss 2.071316\n",
      "iteration 600 / 1500: loss 2.152729\n",
      "iteration 700 / 1500: loss 2.121753\n",
      "iteration 800 / 1500: loss 2.112075\n",
      "iteration 900 / 1500: loss 2.159466\n",
      "iteration 1000 / 1500: loss 2.120825\n",
      "iteration 1100 / 1500: loss 2.127429\n",
      "iteration 1200 / 1500: loss 2.090278\n",
      "iteration 1300 / 1500: loss 2.160840\n",
      "iteration 1400 / 1500: loss 2.122786\n",
      "lr 3.000000e-07 reg 1.000000e+04 train accuracy: 0.354694 val accuracy: 0.357000\n",
      "lr 3.000000e-07 reg 2.000000e+04 train accuracy: 0.325408 val accuracy: 0.345000\n",
      "lr 3.000000e-07 reg 3.000000e+04 train accuracy: 0.330878 val accuracy: 0.335000\n",
      "lr 5.000000e-07 reg 1.000000e+04 train accuracy: 0.355408 val accuracy: 0.368000\n",
      "lr 5.000000e-07 reg 2.000000e+04 train accuracy: 0.333694 val accuracy: 0.345000\n",
      "lr 5.000000e-07 reg 3.000000e+04 train accuracy: 0.327388 val accuracy: 0.340000\n",
      "lr 7.000000e-07 reg 1.000000e+04 train accuracy: 0.352898 val accuracy: 0.372000\n",
      "lr 7.000000e-07 reg 2.000000e+04 train accuracy: 0.323673 val accuracy: 0.327000\n",
      "lr 7.000000e-07 reg 3.000000e+04 train accuracy: 0.321143 val accuracy: 0.337000\n",
      "best validation accuracy achieved during cross-validation: 0.372000\n"
     ]
    }
   ],
   "source": [
    "# Use the validation set to tune hyperparameters (regularization strength and\n",
    "# learning rate). You should experiment with different ranges for the learning\n",
    "# rates and regularization strengths; if you are careful you should be able to\n",
    "# get a classification accuracy of over 0.35 on the validation set.\n",
    "\n",
    "from cs231n.classifiers import Softmax\n",
    "results = {}\n",
    "best_val = -1\n",
    "best_softmax = None\n",
    "\n",
    "################################################################################\n",
    "# TODO:                                                                        #\n",
    "# Use the validation set to set the learning rate and regularization strength. #\n",
    "# This should be identical to the validation that you did for the SVM; save    #\n",
    "# the best trained softmax classifer in best_softmax.                          #\n",
    "################################################################################\n",
    "\n",
    "# Provided as a reference. You may or may not want to change these hyperparameters\n",
    "learning_rates = [3e-7, 5e-7, 7e-7]\n",
    "regularization_strengths = [1e4, 2e4, 3e4]\n",
    "\n",
    "# *****START OF YOUR CODE (DO NOT DELETE/MODIFY THIS LINE)*****\n",
    "\n",
    "for learning_rate in learning_rates:\n",
    "    for regularization_strength in regularization_strengths:\n",
    "        softmax = Softmax()\n",
    "        loss_hist = softmax.train(X_train, y_train, learning_rate = learning_rate, reg = regularization_strength, num_iters = 1500, verbose = True)\n",
    "        y_train_pred = softmax.predict(X_train)\n",
    "        train_accuracy = np.mean(y_train == y_train_pred)\n",
    "        y_val_pred = softmax.predict(X_val)\n",
    "        val_accuracy = np.mean(y_val == y_val_pred)\n",
    "        results[(learning_rate, regularization_strength)] = [train_accuracy, val_accuracy]\n",
    "        if val_accuracy > best_val:\n",
    "            best_val = val_accuracy\n",
    "            best_softmax = softmax\n",
    "\n",
    "# *****END OF YOUR CODE (DO NOT DELETE/MODIFY THIS LINE)*****\n",
    "    \n",
    "# Print out results.\n",
    "for lr, reg in sorted(results):\n",
    "    train_accuracy, val_accuracy = results[(lr, reg)]\n",
    "    print('lr %e reg %e train accuracy: %f val accuracy: %f' % (\n",
    "                lr, reg, train_accuracy, val_accuracy))\n",
    "    \n",
    "print('best validation accuracy achieved during cross-validation: %f' % best_val)"
   ]
  },
  {
   "cell_type": "code",
   "execution_count": 8,
   "id": "8a1f9db3",
   "metadata": {
    "test": "test"
   },
   "outputs": [
    {
     "name": "stdout",
     "output_type": "stream",
     "text": [
      "softmax on raw pixels final test set accuracy: 0.362000\n"
     ]
    }
   ],
   "source": [
    "# evaluate on test set\n",
    "# Evaluate the best softmax on test set\n",
    "y_test_pred = best_softmax.predict(X_test)\n",
    "test_accuracy = np.mean(y_test == y_test_pred)\n",
    "print('softmax on raw pixels final test set accuracy: %f' % (test_accuracy, ))"
   ]
  },
  {
   "cell_type": "markdown",
   "id": "86b9b65c",
   "metadata": {
    "tags": [
     "pdf-inline"
    ]
   },
   "source": [
    "**Inline Question 2** - *True or False*\n",
    "\n",
    "Suppose the overall training loss is defined as the sum of the per-datapoint loss over all training examples. It is possible to add a new datapoint to a training set that would leave the SVM loss unchanged, but this is not the case with the Softmax classifier loss.\n",
    "\n",
    "$\\color{blue}{\\textit Your Answer:}$\n",
    "- *I think it is true.*\n",
    "\n",
    "$\\color{blue}{\\textit Your Explanation:}$\n",
    "- *As for a SVM model, the loss of one data can be zero, since it can be classified quite right, however, as for a softmax model, the loss of one data can never be zero, since the scores of the wrong answers cannot be negative infinity, so the probability to predict right cannot be one and the loss of the data cannot be zero.*\n"
   ]
  },
  {
   "cell_type": "code",
   "execution_count": 9,
   "id": "009f08b9",
   "metadata": {},
   "outputs": [
    {
     "data": {
      "image/png": "[encoded data removed]",
      "text/plain": [
       "<Figure size 1000x800 with 10 Axes>"
      ]
     },
     "metadata": {},
     "output_type": "display_data"
    }
   ],
   "source": [
    "# Visualize the learned weights for each class\n",
    "w = best_softmax.W[:-1,:] # strip out the bias\n",
    "w = w.reshape(32, 32, 3, 10)\n",
    "\n",
    "w_min, w_max = np.min(w), np.max(w)\n",
    "\n",
    "classes = ['plane', 'car', 'bird', 'cat', 'deer', 'dog', 'frog', 'horse', 'ship', 'truck']\n",
    "for i in range(10):\n",
    "    plt.subplot(2, 5, i + 1)\n",
    "    \n",
    "    # Rescale the weights to be between 0 and 255\n",
    "    wimg = 255.0 * (w[:, :, :, i].squeeze() - w_min) / (w_max - w_min)\n",
    "    plt.imshow(wimg.astype('uint8'))\n",
    "    plt.axis('off')\n",
    "    plt.title(classes[i])"
   ]
  }
 ],
 "metadata": {
  "kernelspec": {
   "display_name": "Python 3 (ipykernel)",
   "language": "python",
   "name": "python3"
  },
  "language_info": {
   "codemirror_mode": {
    "name": "ipython",
    "version": 3
   },
   "file_extension": ".py",
   "mimetype": "text/x-python",
   "name": "python",
   "nbconvert_exporter": "python",
   "pygments_lexer": "ipython3",
   "version": "3.11.5"
  }
 },
 "nbformat": 4,
 "nbformat_minor": 5
}
